{
  "cells": [
    {
      "cell_type": "code",
      "execution_count": null,
      "metadata": {
        "colab": {
          "base_uri": "https://localhost:8080/"
        },
        "id": "rh6svDMw03yC",
        "outputId": "162ffe07-0713-4431-b890-1a688b8a0de7"
      },
      "outputs": [
        {
          "name": "stdout",
          "output_type": "stream",
          "text": [
            "Looking in indexes: https://pypi.org/simple, https://us-python.pkg.dev/colab-wheels/public/simple/\n",
            "Collecting elasticsearch==8.5.2\n",
            "  Downloading elasticsearch-8.5.2-py3-none-any.whl (385 kB)\n",
            "\u001b[K     |████████████████████████████████| 385 kB 4.0 MB/s \n",
            "\u001b[?25hCollecting elastic-transport<9,>=8\n",
            "  Downloading elastic_transport-8.4.0-py3-none-any.whl (59 kB)\n",
            "\u001b[K     |████████████████████████████████| 59 kB 3.7 MB/s \n",
            "\u001b[?25hRequirement already satisfied: certifi in /usr/local/lib/python3.8/dist-packages (from elastic-transport<9,>=8->elasticsearch==8.5.2) (2022.9.24)\n",
            "Collecting urllib3<2,>=1.26.2\n",
            "  Downloading urllib3-1.26.13-py2.py3-none-any.whl (140 kB)\n",
            "\u001b[K     |████████████████████████████████| 140 kB 66.0 MB/s \n",
            "\u001b[?25hInstalling collected packages: urllib3, elastic-transport, elasticsearch\n",
            "  Attempting uninstall: urllib3\n",
            "    Found existing installation: urllib3 1.24.3\n",
            "    Uninstalling urllib3-1.24.3:\n",
            "      Successfully uninstalled urllib3-1.24.3\n",
            "\u001b[31mERROR: pip's dependency resolver does not currently take into account all the packages that are installed. This behaviour is the source of the following dependency conflicts.\n",
            "requests 2.23.0 requires urllib3!=1.25.0,!=1.25.1,<1.26,>=1.21.1, but you have urllib3 1.26.13 which is incompatible.\u001b[0m\n",
            "Successfully installed elastic-transport-8.4.0 elasticsearch-8.5.2 urllib3-1.26.13\n"
          ]
        }
      ],
      "source": [
        "pip install elasticsearch==8.5.2"
      ]
    },
    {
      "cell_type": "code",
      "execution_count": null,
      "metadata": {
        "colab": {
          "base_uri": "https://localhost:8080/"
        },
        "id": "cgMpUuUn0-Jx",
        "outputId": "0366a565-9071-478f-fa71-af15683d9f9a"
      },
      "outputs": [
        {
          "name": "stdout",
          "output_type": "stream",
          "text": [
            "Looking in indexes: https://pypi.org/simple, https://us-python.pkg.dev/colab-wheels/public/simple/\n",
            "Collecting pyspellchecker==0.5.6\n",
            "  Downloading pyspellchecker-0.5.6-py2.py3-none-any.whl (2.5 MB)\n",
            "\u001b[K     |████████████████████████████████| 2.5 MB 5.2 MB/s \n",
            "\u001b[?25hInstalling collected packages: pyspellchecker\n",
            "Successfully installed pyspellchecker-0.5.6\n"
          ]
        }
      ],
      "source": [
        "pip install pyspellchecker==0.5.6"
      ]
    },
    {
      "cell_type": "code",
      "execution_count": null,
      "metadata": {
        "colab": {
          "base_uri": "https://localhost:8080/"
        },
        "id": "_-wyJtDh1AOa",
        "outputId": "dbe611b2-dc7c-4cdf-bc92-0a60bd7bc159"
      },
      "outputs": [
        {
          "name": "stderr",
          "output_type": "stream",
          "text": [
            "/usr/local/lib/python3.8/dist-packages/requests/__init__.py:89: RequestsDependencyWarning: urllib3 (1.26.13) or chardet (3.0.4) doesn't match a supported version!\n",
            "  warnings.warn(\"urllib3 ({}) or chardet ({}) doesn't match a supported \"\n"
          ]
        }
      ],
      "source": [
        "import pandas as pd\n",
        "import openpyxl\n",
        "import random\n",
        "import math\n",
        "import collections.abc\n",
        "import copy\n",
        "import ast\n",
        "import json\n",
        "from google.colab import files\n",
        "import elasticsearch\n",
        "from elasticsearch import Elasticsearch\n",
        "from elasticsearch import helpers\n",
        "import spellchecker\n",
        "from spellchecker import SpellChecker\n",
        "import numpy"
      ]
    },
    {
      "cell_type": "code",
      "execution_count": null,
      "metadata": {
        "colab": {
          "base_uri": "https://localhost:8080/"
        },
        "id": "n4_zIfJI1XRL",
        "outputId": "97fd07fd-83b1-4ce4-ddd5-4e891da009cf"
      },
      "outputs": [
        {
          "name": "stdout",
          "output_type": "stream",
          "text": [
            "Cloning into 'IR_Project'...\n",
            "remote: Enumerating objects: 128, done.\u001b[K\n",
            "remote: Counting objects: 100% (128/128), done.\u001b[K\n",
            "remote: Compressing objects: 100% (29/29), done.\u001b[K\n",
            "remote: Total 128 (delta 105), reused 106 (delta 97), pack-reused 0\u001b[K\n",
            "Receiving objects: 100% (128/128), 15.85 MiB | 15.70 MiB/s, done.\n",
            "Resolving deltas: 100% (105/105), done.\n",
            "Checking out files: 100% (107/107), done.\n"
          ]
        }
      ],
      "source": [
        "!git clone \"<github_json_data_repo_link>\""
      ]
    },
    {
      "cell_type": "code",
      "execution_count": null,
      "metadata": {
        "colab": {
          "base_uri": "https://localhost:8080/"
        },
        "id": "_SSazlTV1aGb",
        "outputId": "a2ddd383-d83d-4d86-9a33-f38df4540258"
      },
      "outputs": [
        {
          "name": "stdout",
          "output_type": "stream",
          "text": [
            "/content/IR_Project\n",
            "Already up to date.\n"
          ]
        }
      ],
      "source": [
        "%cd /content/IR_Project\n",
        "!git pull"
      ]
    },
    {
      "cell_type": "code",
      "execution_count": null,
      "metadata": {
        "id": "p3-b7otj_QPf"
      },
      "outputs": [],
      "source": []
    },
    {
      "cell_type": "code",
      "execution_count": null,
      "metadata": {
        "id": "L49ykw-1_ifQ"
      },
      "outputs": [],
      "source": []
    },
    {
      "cell_type": "code",
      "execution_count": null,
      "metadata": {
        "colab": {
          "base_uri": "https://localhost:8080/"
        },
        "id": "qpLNIDou1f3H",
        "outputId": "49bb041b-42a0-439c-d6b0-828457589afe"
      },
      "outputs": [
        {
          "name": "stderr",
          "output_type": "stream",
          "text": [
            "/usr/local/lib/python3.8/dist-packages/openpyxl/styles/stylesheet.py:226: UserWarning: Workbook contains no default style, apply openpyxl's default\n",
            "  warn(\"Workbook contains no default style, apply openpyxl's default\")\n"
          ]
        }
      ],
      "source": [
        "calendar_df=pd.read_excel(\"/content/IR_Project/dimdate-QueryResult.xlsx\")"
      ]
    },
    {
      "cell_type": "code",
      "execution_count": null,
      "metadata": {
        "colab": {
          "base_uri": "https://localhost:8080/"
        },
        "id": "kPfspfNL1gpm",
        "outputId": "5d1649ba-c785-49f8-fbfc-6aceb61f969f"
      },
      "outputs": [
        {
          "name": "stdout",
          "output_type": "stream",
          "text": [
            "      sasdate  date_key  year  month  day_of_month day_of_week  weekday  \\\n",
            "0       14610     10100  2000    1.0           1.0         Sat      7.0   \n",
            "1       14611     10200  2000    1.0           2.0         Sun      1.0   \n",
            "2       14612     10300  2000    1.0           3.0         Mon      2.0   \n",
            "3       14613     10400  2000    1.0           4.0         Tue      3.0   \n",
            "4       14614     10500  2000    1.0           5.0         Wed      4.0   \n",
            "...       ...       ...   ...    ...           ...         ...      ...   \n",
            "9386    23996     91225  2025    9.0          12.0         Fri      6.0   \n",
            "9387    23997     91325  2025    9.0          13.0         Sat      7.0   \n",
            "9388    23998     91425  2025    9.0          14.0         Sun      1.0   \n",
            "9389    23999     91525  2025    9.0          15.0         Mon      2.0   \n",
            "9390    24000     91625  2025    9.0          16.0         Tue      3.0   \n",
            "\n",
            "      holiday  \n",
            "0     NEWYEAR  \n",
            "1         NaN  \n",
            "2         NaN  \n",
            "3         NaN  \n",
            "4         NaN  \n",
            "...       ...  \n",
            "9386      NaN  \n",
            "9387      NaN  \n",
            "9388      NaN  \n",
            "9389      NaN  \n",
            "9390      NaN  \n",
            "\n",
            "[9391 rows x 8 columns]\n"
          ]
        }
      ],
      "source": [
        "calendar_df=calendar_df.drop(['word_date','date','quarter','yearmonth','week','month_and_year','timezone_offset','timezone','timezone_id'],axis=1)\n",
        "\n",
        "print(calendar_df)"
      ]
    },
    {
      "cell_type": "code",
      "execution_count": null,
      "metadata": {
        "colab": {
          "base_uri": "https://localhost:8080/"
        },
        "id": "b5llmwyxgULd",
        "outputId": "d30b1180-62e3-4845-e14f-5fef7935c91e"
      },
      "outputs": [
        {
          "name": "stdout",
          "output_type": "stream",
          "text": [
            "    datekey sasdate  year  month   day  weekday_num               event\n",
            "0     10100   14610  2000    1.0   1.0          7.0         ['newyear']\n",
            "1     11700   14626  2000    1.0  17.0          2.0             ['mlk']\n",
            "2     21400   14654  2000    2.0  14.0          2.0      ['valentines']\n",
            "3     22100   14661  2000    2.0  21.0          2.0    ['uspresidents']\n",
            "4     42300   14723  2000    4.0  23.0          1.0          ['easter']\n",
            "..      ...     ...   ...    ...   ...          ...                 ...\n",
            "469   52625   23887  2025    5.0  26.0          2.0        ['memorial']\n",
            "470   61525   23907  2025    6.0  15.0          1.0         ['fathers']\n",
            "471   70125   23923  2025    7.0   1.0          3.0          ['canada']\n",
            "472   70425   23926  2025    7.0   4.0          6.0  ['usindependence']\n",
            "473   90125   23985  2025    9.0   1.0          2.0           ['labor']\n",
            "\n",
            "[474 rows x 7 columns]\n"
          ]
        }
      ],
      "source": [
        "calendar_index_generated_events=pd.DataFrame(columns=['datekey','sasdate','year','month','day','weekday_num','event'])\n",
        "date_list=pd.DataFrame(columns=['datekey','sasdate','year','month','day','weekday_num'])\n",
        "for row in calendar_df.iterrows():\n",
        "    if(isinstance(row[1]['holiday'],str)):\n",
        "        new_row=[row[1]['date_key'],row[1]['sasdate'],row[1]['year'],row[1]['month'],row[1]['day_of_month'],row[1]['weekday'],str(row[1]['holiday'].lower().split())]\n",
        "        calendar_index_generated_events.loc[len(calendar_index_generated_events)]=new_row\n",
        "\n",
        "    date_list.loc[len(date_list)]=[row[1]['date_key'],row[1]['sasdate'],row[1]['year'],row[1]['month'],row[1]['day_of_month'],row[1]['weekday']]\n",
        "print(calendar_index_generated_events)"
      ]
    },
    {
      "cell_type": "code",
      "execution_count": null,
      "metadata": {
        "id": "i3SLjicQgiSA"
      },
      "outputs": [],
      "source": [
        "calendar_index_generated_events=calendar_index_generated_events.set_index(['sasdate'])"
      ]
    },
    {
      "cell_type": "code",
      "execution_count": null,
      "metadata": {
        "colab": {
          "base_uri": "https://localhost:8080/"
        },
        "id": "d9UpeOP0hG2i",
        "outputId": "0ac805e5-e022-40a4-9fd9-f3924f5f696e"
      },
      "outputs": [
        {
          "data": {
            "text/plain": [
              "14626"
            ]
          },
          "execution_count": 15,
          "metadata": {},
          "output_type": "execute_result"
        }
      ],
      "source": [
        "calendar_index_generated_events.index[1]\n"
      ]
    },
    {
      "cell_type": "markdown",
      "metadata": {
        "id": "rHxIMlw3kORE"
      },
      "source": [
        "### used a slang language normalization list from https://www.kaggle.com/datasets/841dab43e3e9047809fa046ad6fe0e3f97879c9eba46f44752829b01897ed93c?datasetId=525901&select=Test_Set_3802_Pairs.txt"
      ]
    },
    {
      "cell_type": "code",
      "execution_count": null,
      "metadata": {
        "id": "_oPDAknPD82H"
      },
      "outputs": [],
      "source": [
        "slang_dictionary=dict()\n",
        "with open(\"/content/IR_Project/emnlp_dict.txt\",\"r\") as slang_file:\n",
        "  for each_line in slang_file:\n",
        "    #print(each_line.strip().split(\"\\t\"))\n",
        "    each_line_split=each_line.strip().split(\"\\t\")\n",
        "    slang_dictionary[each_line_split[0]]=each_line_split[1]"
      ]
    },
    {
      "cell_type": "code",
      "execution_count": null,
      "metadata": {
        "id": "quNevxuYD0pe"
      },
      "outputs": [],
      "source": [
        "N=len(calendar_index_generated_events)\n",
        "word=\"\"\n",
        "for i in range(0,N):\n",
        "  #print(read_json_df.loc[read_json_df['user']==row[0][0]])\n",
        "  event_str=calendar_index_generated_events.loc[(calendar_index_generated_events.index[i]),'event']\n",
        "  formatted_event=\"\"\n",
        "  #print(event_str)\n",
        "  for character in event_str:\n",
        "    if character.isalnum():\n",
        "      formatted_event=formatted_event+character.lower()\n",
        "      word=word+character.lower()\n",
        "    if character==' ' or character==',':\n",
        "      if word in slang_dictionary:\n",
        "        #print(i,read_json_df.index[i][0],read_json_df.index[i][1], word)\n",
        "        formatted_event=formatted_event.replace(word,slang_dictionary[word])\n",
        "      word=\"\"\n",
        "      formatted_event=formatted_event+character\n",
        "    if character==']':\n",
        "      if word in slang_dictionary:\n",
        "        #print(i,read_json_df.index[i][0],read_json_df.index[i][1], word)\n",
        "        formatted_event=formatted_event.replace(word,slang_dictionary[word])\n",
        "      word=\"\"\n",
        "\n",
        "  formatteed_event=formatted_event.split(',')\n",
        "  calendar_index_generated_events.loc[(calendar_index_generated_events.index[i]),'formatted_event']=formatted_event\n",
        "  #print(i)\n"
      ]
    },
    {
      "cell_type": "code",
      "execution_count": null,
      "metadata": {
        "colab": {
          "base_uri": "https://localhost:8080/",
          "height": 455
        },
        "id": "LiMAVqQkhXTL",
        "outputId": "28d93cda-0e20-46c9-a75d-68f590bd5814"
      },
      "outputs": [
        {
          "data": {
            "text/html": [
              "\n",
              "  <div id=\"df-4381d4e3-4e2d-4a36-83c1-07c0c7a473b7\">\n",
              "    <div class=\"colab-df-container\">\n",
              "      <div>\n",
              "<style scoped>\n",
              "    .dataframe tbody tr th:only-of-type {\n",
              "        vertical-align: middle;\n",
              "    }\n",
              "\n",
              "    .dataframe tbody tr th {\n",
              "        vertical-align: top;\n",
              "    }\n",
              "\n",
              "    .dataframe thead th {\n",
              "        text-align: right;\n",
              "    }\n",
              "</style>\n",
              "<table border=\"1\" class=\"dataframe\">\n",
              "  <thead>\n",
              "    <tr style=\"text-align: right;\">\n",
              "      <th></th>\n",
              "      <th>datekey</th>\n",
              "      <th>year</th>\n",
              "      <th>month</th>\n",
              "      <th>day</th>\n",
              "      <th>weekday_num</th>\n",
              "      <th>event</th>\n",
              "      <th>formatted_event</th>\n",
              "    </tr>\n",
              "    <tr>\n",
              "      <th>sasdate</th>\n",
              "      <th></th>\n",
              "      <th></th>\n",
              "      <th></th>\n",
              "      <th></th>\n",
              "      <th></th>\n",
              "      <th></th>\n",
              "      <th></th>\n",
              "    </tr>\n",
              "  </thead>\n",
              "  <tbody>\n",
              "    <tr>\n",
              "      <th>14610</th>\n",
              "      <td>10100</td>\n",
              "      <td>2000</td>\n",
              "      <td>1.0</td>\n",
              "      <td>1.0</td>\n",
              "      <td>7.0</td>\n",
              "      <td>['newyear']</td>\n",
              "      <td>newyear</td>\n",
              "    </tr>\n",
              "    <tr>\n",
              "      <th>14626</th>\n",
              "      <td>11700</td>\n",
              "      <td>2000</td>\n",
              "      <td>1.0</td>\n",
              "      <td>17.0</td>\n",
              "      <td>2.0</td>\n",
              "      <td>['mlk']</td>\n",
              "      <td>mlk</td>\n",
              "    </tr>\n",
              "    <tr>\n",
              "      <th>14654</th>\n",
              "      <td>21400</td>\n",
              "      <td>2000</td>\n",
              "      <td>2.0</td>\n",
              "      <td>14.0</td>\n",
              "      <td>2.0</td>\n",
              "      <td>['valentines']</td>\n",
              "      <td>valentines</td>\n",
              "    </tr>\n",
              "    <tr>\n",
              "      <th>14661</th>\n",
              "      <td>22100</td>\n",
              "      <td>2000</td>\n",
              "      <td>2.0</td>\n",
              "      <td>21.0</td>\n",
              "      <td>2.0</td>\n",
              "      <td>['uspresidents']</td>\n",
              "      <td>uspresidents</td>\n",
              "    </tr>\n",
              "    <tr>\n",
              "      <th>14723</th>\n",
              "      <td>42300</td>\n",
              "      <td>2000</td>\n",
              "      <td>4.0</td>\n",
              "      <td>23.0</td>\n",
              "      <td>1.0</td>\n",
              "      <td>['easter']</td>\n",
              "      <td>easter</td>\n",
              "    </tr>\n",
              "    <tr>\n",
              "      <th>...</th>\n",
              "      <td>...</td>\n",
              "      <td>...</td>\n",
              "      <td>...</td>\n",
              "      <td>...</td>\n",
              "      <td>...</td>\n",
              "      <td>...</td>\n",
              "      <td>...</td>\n",
              "    </tr>\n",
              "    <tr>\n",
              "      <th>23887</th>\n",
              "      <td>52625</td>\n",
              "      <td>2025</td>\n",
              "      <td>5.0</td>\n",
              "      <td>26.0</td>\n",
              "      <td>2.0</td>\n",
              "      <td>['memorial']</td>\n",
              "      <td>memorial</td>\n",
              "    </tr>\n",
              "    <tr>\n",
              "      <th>23907</th>\n",
              "      <td>61525</td>\n",
              "      <td>2025</td>\n",
              "      <td>6.0</td>\n",
              "      <td>15.0</td>\n",
              "      <td>1.0</td>\n",
              "      <td>['fathers']</td>\n",
              "      <td>fathers</td>\n",
              "    </tr>\n",
              "    <tr>\n",
              "      <th>23923</th>\n",
              "      <td>70125</td>\n",
              "      <td>2025</td>\n",
              "      <td>7.0</td>\n",
              "      <td>1.0</td>\n",
              "      <td>3.0</td>\n",
              "      <td>['canada']</td>\n",
              "      <td>canada</td>\n",
              "    </tr>\n",
              "    <tr>\n",
              "      <th>23926</th>\n",
              "      <td>70425</td>\n",
              "      <td>2025</td>\n",
              "      <td>7.0</td>\n",
              "      <td>4.0</td>\n",
              "      <td>6.0</td>\n",
              "      <td>['usindependence']</td>\n",
              "      <td>usindependence</td>\n",
              "    </tr>\n",
              "    <tr>\n",
              "      <th>23985</th>\n",
              "      <td>90125</td>\n",
              "      <td>2025</td>\n",
              "      <td>9.0</td>\n",
              "      <td>1.0</td>\n",
              "      <td>2.0</td>\n",
              "      <td>['labor']</td>\n",
              "      <td>labor</td>\n",
              "    </tr>\n",
              "  </tbody>\n",
              "</table>\n",
              "<p>474 rows × 7 columns</p>\n",
              "</div>\n",
              "      <button class=\"colab-df-convert\" onclick=\"convertToInteractive('df-4381d4e3-4e2d-4a36-83c1-07c0c7a473b7')\"\n",
              "              title=\"Convert this dataframe to an interactive table.\"\n",
              "              style=\"display:none;\">\n",
              "        \n",
              "  <svg xmlns=\"http://www.w3.org/2000/svg\" height=\"24px\"viewBox=\"0 0 24 24\"\n",
              "       width=\"24px\">\n",
              "    <path d=\"M0 0h24v24H0V0z\" fill=\"none\"/>\n",
              "    <path d=\"M18.56 5.44l.94 2.06.94-2.06 2.06-.94-2.06-.94-.94-2.06-.94 2.06-2.06.94zm-11 1L8.5 8.5l.94-2.06 2.06-.94-2.06-.94L8.5 2.5l-.94 2.06-2.06.94zm10 10l.94 2.06.94-2.06 2.06-.94-2.06-.94-.94-2.06-.94 2.06-2.06.94z\"/><path d=\"M17.41 7.96l-1.37-1.37c-.4-.4-.92-.59-1.43-.59-.52 0-1.04.2-1.43.59L10.3 9.45l-7.72 7.72c-.78.78-.78 2.05 0 2.83L4 21.41c.39.39.9.59 1.41.59.51 0 1.02-.2 1.41-.59l7.78-7.78 2.81-2.81c.8-.78.8-2.07 0-2.86zM5.41 20L4 18.59l7.72-7.72 1.47 1.35L5.41 20z\"/>\n",
              "  </svg>\n",
              "      </button>\n",
              "      \n",
              "  <style>\n",
              "    .colab-df-container {\n",
              "      display:flex;\n",
              "      flex-wrap:wrap;\n",
              "      gap: 12px;\n",
              "    }\n",
              "\n",
              "    .colab-df-convert {\n",
              "      background-color: #E8F0FE;\n",
              "      border: none;\n",
              "      border-radius: 50%;\n",
              "      cursor: pointer;\n",
              "      display: none;\n",
              "      fill: #1967D2;\n",
              "      height: 32px;\n",
              "      padding: 0 0 0 0;\n",
              "      width: 32px;\n",
              "    }\n",
              "\n",
              "    .colab-df-convert:hover {\n",
              "      background-color: #E2EBFA;\n",
              "      box-shadow: 0px 1px 2px rgba(60, 64, 67, 0.3), 0px 1px 3px 1px rgba(60, 64, 67, 0.15);\n",
              "      fill: #174EA6;\n",
              "    }\n",
              "\n",
              "    [theme=dark] .colab-df-convert {\n",
              "      background-color: #3B4455;\n",
              "      fill: #D2E3FC;\n",
              "    }\n",
              "\n",
              "    [theme=dark] .colab-df-convert:hover {\n",
              "      background-color: #434B5C;\n",
              "      box-shadow: 0px 1px 3px 1px rgba(0, 0, 0, 0.15);\n",
              "      filter: drop-shadow(0px 1px 2px rgba(0, 0, 0, 0.3));\n",
              "      fill: #FFFFFF;\n",
              "    }\n",
              "  </style>\n",
              "\n",
              "      <script>\n",
              "        const buttonEl =\n",
              "          document.querySelector('#df-4381d4e3-4e2d-4a36-83c1-07c0c7a473b7 button.colab-df-convert');\n",
              "        buttonEl.style.display =\n",
              "          google.colab.kernel.accessAllowed ? 'block' : 'none';\n",
              "\n",
              "        async function convertToInteractive(key) {\n",
              "          const element = document.querySelector('#df-4381d4e3-4e2d-4a36-83c1-07c0c7a473b7');\n",
              "          const dataTable =\n",
              "            await google.colab.kernel.invokeFunction('convertToInteractive',\n",
              "                                                     [key], {});\n",
              "          if (!dataTable) return;\n",
              "\n",
              "          const docLinkHtml = 'Like what you see? Visit the ' +\n",
              "            '<a target=\"_blank\" href=https://colab.research.google.com/notebooks/data_table.ipynb>data table notebook</a>'\n",
              "            + ' to learn more about interactive tables.';\n",
              "          element.innerHTML = '';\n",
              "          dataTable['output_type'] = 'display_data';\n",
              "          await google.colab.output.renderOutput(dataTable, element);\n",
              "          const docLink = document.createElement('div');\n",
              "          docLink.innerHTML = docLinkHtml;\n",
              "          element.appendChild(docLink);\n",
              "        }\n",
              "      </script>\n",
              "    </div>\n",
              "  </div>\n",
              "  "
            ],
            "text/plain": [
              "        datekey  year  month   day  weekday_num               event  \\\n",
              "sasdate                                                               \n",
              "14610     10100  2000    1.0   1.0          7.0         ['newyear']   \n",
              "14626     11700  2000    1.0  17.0          2.0             ['mlk']   \n",
              "14654     21400  2000    2.0  14.0          2.0      ['valentines']   \n",
              "14661     22100  2000    2.0  21.0          2.0    ['uspresidents']   \n",
              "14723     42300  2000    4.0  23.0          1.0          ['easter']   \n",
              "...         ...   ...    ...   ...          ...                 ...   \n",
              "23887     52625  2025    5.0  26.0          2.0        ['memorial']   \n",
              "23907     61525  2025    6.0  15.0          1.0         ['fathers']   \n",
              "23923     70125  2025    7.0   1.0          3.0          ['canada']   \n",
              "23926     70425  2025    7.0   4.0          6.0  ['usindependence']   \n",
              "23985     90125  2025    9.0   1.0          2.0           ['labor']   \n",
              "\n",
              "        formatted_event  \n",
              "sasdate                  \n",
              "14610           newyear  \n",
              "14626               mlk  \n",
              "14654        valentines  \n",
              "14661      uspresidents  \n",
              "14723            easter  \n",
              "...                 ...  \n",
              "23887          memorial  \n",
              "23907           fathers  \n",
              "23923            canada  \n",
              "23926    usindependence  \n",
              "23985             labor  \n",
              "\n",
              "[474 rows x 7 columns]"
            ]
          },
          "execution_count": 21,
          "metadata": {},
          "output_type": "execute_result"
        }
      ],
      "source": [
        "calendar_index_generated_events"
      ]
    },
    {
      "cell_type": "code",
      "execution_count": null,
      "metadata": {
        "id": "m6OtjAh11i5H"
      },
      "outputs": [],
      "source": [
        "#contains all the generated calendars\n",
        "calendar_index_date_key=pd.DataFrame(columns=['user','datekey','sasdate','year','month','day','weekday_num','event'])\n"
      ]
    },
    {
      "cell_type": "code",
      "execution_count": null,
      "metadata": {
        "id": "0qvfwIXg1nBt"
      },
      "outputs": [],
      "source": [
        "json_file=open('/content/IR_Project/JSON/user_date_indexed/user_event_1000.json')\n",
        "dict_json=json.load(json_file)\n",
        "read_json_df=pd.DataFrame(dict_json['data'])"
      ]
    },
    {
      "cell_type": "code",
      "execution_count": null,
      "metadata": {
        "id": "QMzkBZRB11CC"
      },
      "outputs": [],
      "source": [
        "read_json_df=read_json_df.set_index(['user','sasdate'])"
      ]
    },
    {
      "cell_type": "code",
      "execution_count": null,
      "metadata": {
        "colab": {
          "base_uri": "https://localhost:8080/",
          "height": 455
        },
        "id": "xlT4Gs7N4ax5",
        "outputId": "8a39b801-6e6b-44f7-cd5c-e792d1e90dd0"
      },
      "outputs": [
        {
          "data": {
            "text/html": [
              "\n",
              "  <div id=\"df-9b85250d-df28-4b53-abf5-7a4369a08ea2\">\n",
              "    <div class=\"colab-df-container\">\n",
              "      <div>\n",
              "<style scoped>\n",
              "    .dataframe tbody tr th:only-of-type {\n",
              "        vertical-align: middle;\n",
              "    }\n",
              "\n",
              "    .dataframe tbody tr th {\n",
              "        vertical-align: top;\n",
              "    }\n",
              "\n",
              "    .dataframe thead th {\n",
              "        text-align: right;\n",
              "    }\n",
              "</style>\n",
              "<table border=\"1\" class=\"dataframe\">\n",
              "  <thead>\n",
              "    <tr style=\"text-align: right;\">\n",
              "      <th></th>\n",
              "      <th></th>\n",
              "      <th>datekey</th>\n",
              "      <th>year</th>\n",
              "      <th>month</th>\n",
              "      <th>day</th>\n",
              "      <th>weekday_num</th>\n",
              "      <th>event</th>\n",
              "    </tr>\n",
              "    <tr>\n",
              "      <th>user</th>\n",
              "      <th>sasdate</th>\n",
              "      <th></th>\n",
              "      <th></th>\n",
              "      <th></th>\n",
              "      <th></th>\n",
              "      <th></th>\n",
              "      <th></th>\n",
              "    </tr>\n",
              "  </thead>\n",
              "  <tbody>\n",
              "    <tr>\n",
              "      <th rowspan=\"5\" valign=\"top\">user_1</th>\n",
              "      <th>22497.0</th>\n",
              "      <td>80521.0</td>\n",
              "      <td>2021.0</td>\n",
              "      <td>8.0</td>\n",
              "      <td>5.0</td>\n",
              "      <td>5.0</td>\n",
              "      <td>['tim event']</td>\n",
              "    </tr>\n",
              "    <tr>\n",
              "      <th>16109.0</th>\n",
              "      <td>20804.0</td>\n",
              "      <td>2004.0</td>\n",
              "      <td>2.0</td>\n",
              "      <td>8.0</td>\n",
              "      <td>1.0</td>\n",
              "      <td>['Joey birthday party']</td>\n",
              "    </tr>\n",
              "    <tr>\n",
              "      <th>17968.0</th>\n",
              "      <td>31209.0</td>\n",
              "      <td>2009.0</td>\n",
              "      <td>3.0</td>\n",
              "      <td>12.0</td>\n",
              "      <td>5.0</td>\n",
              "      <td>['rhea Birthday']</td>\n",
              "    </tr>\n",
              "    <tr>\n",
              "      <th>17692.0</th>\n",
              "      <td>60908.0</td>\n",
              "      <td>2008.0</td>\n",
              "      <td>6.0</td>\n",
              "      <td>9.0</td>\n",
              "      <td>2.0</td>\n",
              "      <td>['meet mom and dad']</td>\n",
              "    </tr>\n",
              "    <tr>\n",
              "      <th>22805.0</th>\n",
              "      <td>60922.0</td>\n",
              "      <td>2022.0</td>\n",
              "      <td>6.0</td>\n",
              "      <td>9.0</td>\n",
              "      <td>5.0</td>\n",
              "      <td>['johny Meeting']</td>\n",
              "    </tr>\n",
              "    <tr>\n",
              "      <th>...</th>\n",
              "      <th>...</th>\n",
              "      <td>...</td>\n",
              "      <td>...</td>\n",
              "      <td>...</td>\n",
              "      <td>...</td>\n",
              "      <td>...</td>\n",
              "      <td>...</td>\n",
              "    </tr>\n",
              "    <tr>\n",
              "      <th rowspan=\"5\" valign=\"top\">user_1000</th>\n",
              "      <th>22890.0</th>\n",
              "      <td>90222.0</td>\n",
              "      <td>2022.0</td>\n",
              "      <td>9.0</td>\n",
              "      <td>2.0</td>\n",
              "      <td>6.0</td>\n",
              "      <td>['birthday party mummy']</td>\n",
              "    </tr>\n",
              "    <tr>\n",
              "      <th>18897.0</th>\n",
              "      <td>92711.0</td>\n",
              "      <td>2011.0</td>\n",
              "      <td>9.0</td>\n",
              "      <td>27.0</td>\n",
              "      <td>3.0</td>\n",
              "      <td>['bday mom and dad']</td>\n",
              "    </tr>\n",
              "    <tr>\n",
              "      <th>16496.0</th>\n",
              "      <td>30105.0</td>\n",
              "      <td>2005.0</td>\n",
              "      <td>3.0</td>\n",
              "      <td>1.0</td>\n",
              "      <td>3.0</td>\n",
              "      <td>['anniversary mummy']</td>\n",
              "    </tr>\n",
              "    <tr>\n",
              "      <th>22596.0</th>\n",
              "      <td>111221.0</td>\n",
              "      <td>2021.0</td>\n",
              "      <td>11.0</td>\n",
              "      <td>12.0</td>\n",
              "      <td>6.0</td>\n",
              "      <td>['ShivaJayanti']</td>\n",
              "    </tr>\n",
              "    <tr>\n",
              "      <th>17531.0</th>\n",
              "      <td>123107.0</td>\n",
              "      <td>2007.0</td>\n",
              "      <td>12.0</td>\n",
              "      <td>31.0</td>\n",
              "      <td>2.0</td>\n",
              "      <td>['holi']</td>\n",
              "    </tr>\n",
              "  </tbody>\n",
              "</table>\n",
              "<p>11994 rows × 6 columns</p>\n",
              "</div>\n",
              "      <button class=\"colab-df-convert\" onclick=\"convertToInteractive('df-9b85250d-df28-4b53-abf5-7a4369a08ea2')\"\n",
              "              title=\"Convert this dataframe to an interactive table.\"\n",
              "              style=\"display:none;\">\n",
              "        \n",
              "  <svg xmlns=\"http://www.w3.org/2000/svg\" height=\"24px\"viewBox=\"0 0 24 24\"\n",
              "       width=\"24px\">\n",
              "    <path d=\"M0 0h24v24H0V0z\" fill=\"none\"/>\n",
              "    <path d=\"M18.56 5.44l.94 2.06.94-2.06 2.06-.94-2.06-.94-.94-2.06-.94 2.06-2.06.94zm-11 1L8.5 8.5l.94-2.06 2.06-.94-2.06-.94L8.5 2.5l-.94 2.06-2.06.94zm10 10l.94 2.06.94-2.06 2.06-.94-2.06-.94-.94-2.06-.94 2.06-2.06.94z\"/><path d=\"M17.41 7.96l-1.37-1.37c-.4-.4-.92-.59-1.43-.59-.52 0-1.04.2-1.43.59L10.3 9.45l-7.72 7.72c-.78.78-.78 2.05 0 2.83L4 21.41c.39.39.9.59 1.41.59.51 0 1.02-.2 1.41-.59l7.78-7.78 2.81-2.81c.8-.78.8-2.07 0-2.86zM5.41 20L4 18.59l7.72-7.72 1.47 1.35L5.41 20z\"/>\n",
              "  </svg>\n",
              "      </button>\n",
              "      \n",
              "  <style>\n",
              "    .colab-df-container {\n",
              "      display:flex;\n",
              "      flex-wrap:wrap;\n",
              "      gap: 12px;\n",
              "    }\n",
              "\n",
              "    .colab-df-convert {\n",
              "      background-color: #E8F0FE;\n",
              "      border: none;\n",
              "      border-radius: 50%;\n",
              "      cursor: pointer;\n",
              "      display: none;\n",
              "      fill: #1967D2;\n",
              "      height: 32px;\n",
              "      padding: 0 0 0 0;\n",
              "      width: 32px;\n",
              "    }\n",
              "\n",
              "    .colab-df-convert:hover {\n",
              "      background-color: #E2EBFA;\n",
              "      box-shadow: 0px 1px 2px rgba(60, 64, 67, 0.3), 0px 1px 3px 1px rgba(60, 64, 67, 0.15);\n",
              "      fill: #174EA6;\n",
              "    }\n",
              "\n",
              "    [theme=dark] .colab-df-convert {\n",
              "      background-color: #3B4455;\n",
              "      fill: #D2E3FC;\n",
              "    }\n",
              "\n",
              "    [theme=dark] .colab-df-convert:hover {\n",
              "      background-color: #434B5C;\n",
              "      box-shadow: 0px 1px 3px 1px rgba(0, 0, 0, 0.15);\n",
              "      filter: drop-shadow(0px 1px 2px rgba(0, 0, 0, 0.3));\n",
              "      fill: #FFFFFF;\n",
              "    }\n",
              "  </style>\n",
              "\n",
              "      <script>\n",
              "        const buttonEl =\n",
              "          document.querySelector('#df-9b85250d-df28-4b53-abf5-7a4369a08ea2 button.colab-df-convert');\n",
              "        buttonEl.style.display =\n",
              "          google.colab.kernel.accessAllowed ? 'block' : 'none';\n",
              "\n",
              "        async function convertToInteractive(key) {\n",
              "          const element = document.querySelector('#df-9b85250d-df28-4b53-abf5-7a4369a08ea2');\n",
              "          const dataTable =\n",
              "            await google.colab.kernel.invokeFunction('convertToInteractive',\n",
              "                                                     [key], {});\n",
              "          if (!dataTable) return;\n",
              "\n",
              "          const docLinkHtml = 'Like what you see? Visit the ' +\n",
              "            '<a target=\"_blank\" href=https://colab.research.google.com/notebooks/data_table.ipynb>data table notebook</a>'\n",
              "            + ' to learn more about interactive tables.';\n",
              "          element.innerHTML = '';\n",
              "          dataTable['output_type'] = 'display_data';\n",
              "          await google.colab.output.renderOutput(dataTable, element);\n",
              "          const docLink = document.createElement('div');\n",
              "          docLink.innerHTML = docLinkHtml;\n",
              "          element.appendChild(docLink);\n",
              "        }\n",
              "      </script>\n",
              "    </div>\n",
              "  </div>\n",
              "  "
            ],
            "text/plain": [
              "                    datekey    year  month   day  weekday_num  \\\n",
              "user      sasdate                                               \n",
              "user_1    22497.0   80521.0  2021.0    8.0   5.0          5.0   \n",
              "          16109.0   20804.0  2004.0    2.0   8.0          1.0   \n",
              "          17968.0   31209.0  2009.0    3.0  12.0          5.0   \n",
              "          17692.0   60908.0  2008.0    6.0   9.0          2.0   \n",
              "          22805.0   60922.0  2022.0    6.0   9.0          5.0   \n",
              "...                     ...     ...    ...   ...          ...   \n",
              "user_1000 22890.0   90222.0  2022.0    9.0   2.0          6.0   \n",
              "          18897.0   92711.0  2011.0    9.0  27.0          3.0   \n",
              "          16496.0   30105.0  2005.0    3.0   1.0          3.0   \n",
              "          22596.0  111221.0  2021.0   11.0  12.0          6.0   \n",
              "          17531.0  123107.0  2007.0   12.0  31.0          2.0   \n",
              "\n",
              "                                      event  \n",
              "user      sasdate                            \n",
              "user_1    22497.0             ['tim event']  \n",
              "          16109.0   ['Joey birthday party']  \n",
              "          17968.0         ['rhea Birthday']  \n",
              "          17692.0      ['meet mom and dad']  \n",
              "          22805.0         ['johny Meeting']  \n",
              "...                                     ...  \n",
              "user_1000 22890.0  ['birthday party mummy']  \n",
              "          18897.0      ['bday mom and dad']  \n",
              "          16496.0     ['anniversary mummy']  \n",
              "          22596.0          ['ShivaJayanti']  \n",
              "          17531.0                  ['holi']  \n",
              "\n",
              "[11994 rows x 6 columns]"
            ]
          },
          "execution_count": 15,
          "metadata": {},
          "output_type": "execute_result"
        }
      ],
      "source": [
        "read_json_df"
      ]
    },
    {
      "cell_type": "code",
      "execution_count": null,
      "metadata": {
        "id": "5zdGTJ1bFaLf"
      },
      "outputs": [],
      "source": [
        "N=len(read_json_df)\n",
        "word=\"\"\n",
        "for i in range(0,N):\n",
        "  #print(read_json_df.loc[read_json_df['user']==row[0][0]])\n",
        "  event_str=read_json_df.loc[(read_json_df.index[i][0],read_json_df.index[i][1]),'event']\n",
        "  formatted_event=\"\"\n",
        "  #print(event_str)\n",
        "  for character in event_str:\n",
        "    if character.isalnum():\n",
        "      formatted_event=formatted_event+character.lower()\n",
        "      word=word+character.lower()\n",
        "    if character==' ' or character==',':\n",
        "      if word in slang_dictionary:\n",
        "        #print(i,read_json_df.index[i][0],read_json_df.index[i][1], word)\n",
        "        formatted_event=formatted_event.replace(word,slang_dictionary[word])\n",
        "      word=\"\"\n",
        "      formatted_event=formatted_event+character\n",
        "    if character==']':\n",
        "      if word in slang_dictionary:\n",
        "        #print(i,read_json_df.index[i][0],read_json_df.index[i][1], word)\n",
        "        formatted_event=formatted_event.replace(word,slang_dictionary[word])\n",
        "      word=\"\"\n",
        "\n",
        "  formatteed_event=formatted_event.split(',')\n",
        "  read_json_df.loc[(read_json_df.index[i][0],read_json_df.index[i][1]),'formatted_event']=formatted_event\n",
        "  #print(i)\n"
      ]
    },
    {
      "cell_type": "code",
      "execution_count": null,
      "metadata": {
        "colab": {
          "base_uri": "https://localhost:8080/",
          "height": 455
        },
        "id": "kzs_PD7-19j2",
        "outputId": "e5b653c7-334b-4498-f87c-5a0e1063c9b7"
      },
      "outputs": [
        {
          "data": {
            "text/html": [
              "\n",
              "  <div id=\"df-b361859c-fedd-430d-b10f-46d6f35f4688\">\n",
              "    <div class=\"colab-df-container\">\n",
              "      <div>\n",
              "<style scoped>\n",
              "    .dataframe tbody tr th:only-of-type {\n",
              "        vertical-align: middle;\n",
              "    }\n",
              "\n",
              "    .dataframe tbody tr th {\n",
              "        vertical-align: top;\n",
              "    }\n",
              "\n",
              "    .dataframe thead th {\n",
              "        text-align: right;\n",
              "    }\n",
              "</style>\n",
              "<table border=\"1\" class=\"dataframe\">\n",
              "  <thead>\n",
              "    <tr style=\"text-align: right;\">\n",
              "      <th></th>\n",
              "      <th></th>\n",
              "      <th>datekey</th>\n",
              "      <th>year</th>\n",
              "      <th>month</th>\n",
              "      <th>day</th>\n",
              "      <th>weekday_num</th>\n",
              "      <th>event</th>\n",
              "      <th>formatted_event</th>\n",
              "    </tr>\n",
              "    <tr>\n",
              "      <th>user</th>\n",
              "      <th>sasdate</th>\n",
              "      <th></th>\n",
              "      <th></th>\n",
              "      <th></th>\n",
              "      <th></th>\n",
              "      <th></th>\n",
              "      <th></th>\n",
              "      <th></th>\n",
              "    </tr>\n",
              "  </thead>\n",
              "  <tbody>\n",
              "    <tr>\n",
              "      <th rowspan=\"5\" valign=\"top\">user_1</th>\n",
              "      <th>22497.0</th>\n",
              "      <td>80521.0</td>\n",
              "      <td>2021.0</td>\n",
              "      <td>8.0</td>\n",
              "      <td>5.0</td>\n",
              "      <td>5.0</td>\n",
              "      <td>['tim event']</td>\n",
              "      <td>tim event</td>\n",
              "    </tr>\n",
              "    <tr>\n",
              "      <th>16109.0</th>\n",
              "      <td>20804.0</td>\n",
              "      <td>2004.0</td>\n",
              "      <td>2.0</td>\n",
              "      <td>8.0</td>\n",
              "      <td>1.0</td>\n",
              "      <td>['Joey birthday party']</td>\n",
              "      <td>joey birthday party</td>\n",
              "    </tr>\n",
              "    <tr>\n",
              "      <th>17968.0</th>\n",
              "      <td>31209.0</td>\n",
              "      <td>2009.0</td>\n",
              "      <td>3.0</td>\n",
              "      <td>12.0</td>\n",
              "      <td>5.0</td>\n",
              "      <td>['rhea Birthday']</td>\n",
              "      <td>rhea birthday</td>\n",
              "    </tr>\n",
              "    <tr>\n",
              "      <th>17692.0</th>\n",
              "      <td>60908.0</td>\n",
              "      <td>2008.0</td>\n",
              "      <td>6.0</td>\n",
              "      <td>9.0</td>\n",
              "      <td>2.0</td>\n",
              "      <td>['meet mom and dad']</td>\n",
              "      <td>meet mom and dad</td>\n",
              "    </tr>\n",
              "    <tr>\n",
              "      <th>22805.0</th>\n",
              "      <td>60922.0</td>\n",
              "      <td>2022.0</td>\n",
              "      <td>6.0</td>\n",
              "      <td>9.0</td>\n",
              "      <td>5.0</td>\n",
              "      <td>['johny Meeting']</td>\n",
              "      <td>johnny meeting</td>\n",
              "    </tr>\n",
              "    <tr>\n",
              "      <th>...</th>\n",
              "      <th>...</th>\n",
              "      <td>...</td>\n",
              "      <td>...</td>\n",
              "      <td>...</td>\n",
              "      <td>...</td>\n",
              "      <td>...</td>\n",
              "      <td>...</td>\n",
              "      <td>...</td>\n",
              "    </tr>\n",
              "    <tr>\n",
              "      <th rowspan=\"5\" valign=\"top\">user_1000</th>\n",
              "      <th>22890.0</th>\n",
              "      <td>90222.0</td>\n",
              "      <td>2022.0</td>\n",
              "      <td>9.0</td>\n",
              "      <td>2.0</td>\n",
              "      <td>6.0</td>\n",
              "      <td>['birthday party mummy']</td>\n",
              "      <td>birthday party mummy</td>\n",
              "    </tr>\n",
              "    <tr>\n",
              "      <th>18897.0</th>\n",
              "      <td>92711.0</td>\n",
              "      <td>2011.0</td>\n",
              "      <td>9.0</td>\n",
              "      <td>27.0</td>\n",
              "      <td>3.0</td>\n",
              "      <td>['bday mom and dad']</td>\n",
              "      <td>birthday mom and dad</td>\n",
              "    </tr>\n",
              "    <tr>\n",
              "      <th>16496.0</th>\n",
              "      <td>30105.0</td>\n",
              "      <td>2005.0</td>\n",
              "      <td>3.0</td>\n",
              "      <td>1.0</td>\n",
              "      <td>3.0</td>\n",
              "      <td>['anniversary mummy']</td>\n",
              "      <td>anniversary mummy</td>\n",
              "    </tr>\n",
              "    <tr>\n",
              "      <th>22596.0</th>\n",
              "      <td>111221.0</td>\n",
              "      <td>2021.0</td>\n",
              "      <td>11.0</td>\n",
              "      <td>12.0</td>\n",
              "      <td>6.0</td>\n",
              "      <td>['ShivaJayanti']</td>\n",
              "      <td>shivajayanti</td>\n",
              "    </tr>\n",
              "    <tr>\n",
              "      <th>17531.0</th>\n",
              "      <td>123107.0</td>\n",
              "      <td>2007.0</td>\n",
              "      <td>12.0</td>\n",
              "      <td>31.0</td>\n",
              "      <td>2.0</td>\n",
              "      <td>['holi']</td>\n",
              "      <td>holi</td>\n",
              "    </tr>\n",
              "  </tbody>\n",
              "</table>\n",
              "<p>11994 rows × 7 columns</p>\n",
              "</div>\n",
              "      <button class=\"colab-df-convert\" onclick=\"convertToInteractive('df-b361859c-fedd-430d-b10f-46d6f35f4688')\"\n",
              "              title=\"Convert this dataframe to an interactive table.\"\n",
              "              style=\"display:none;\">\n",
              "        \n",
              "  <svg xmlns=\"http://www.w3.org/2000/svg\" height=\"24px\"viewBox=\"0 0 24 24\"\n",
              "       width=\"24px\">\n",
              "    <path d=\"M0 0h24v24H0V0z\" fill=\"none\"/>\n",
              "    <path d=\"M18.56 5.44l.94 2.06.94-2.06 2.06-.94-2.06-.94-.94-2.06-.94 2.06-2.06.94zm-11 1L8.5 8.5l.94-2.06 2.06-.94-2.06-.94L8.5 2.5l-.94 2.06-2.06.94zm10 10l.94 2.06.94-2.06 2.06-.94-2.06-.94-.94-2.06-.94 2.06-2.06.94z\"/><path d=\"M17.41 7.96l-1.37-1.37c-.4-.4-.92-.59-1.43-.59-.52 0-1.04.2-1.43.59L10.3 9.45l-7.72 7.72c-.78.78-.78 2.05 0 2.83L4 21.41c.39.39.9.59 1.41.59.51 0 1.02-.2 1.41-.59l7.78-7.78 2.81-2.81c.8-.78.8-2.07 0-2.86zM5.41 20L4 18.59l7.72-7.72 1.47 1.35L5.41 20z\"/>\n",
              "  </svg>\n",
              "      </button>\n",
              "      \n",
              "  <style>\n",
              "    .colab-df-container {\n",
              "      display:flex;\n",
              "      flex-wrap:wrap;\n",
              "      gap: 12px;\n",
              "    }\n",
              "\n",
              "    .colab-df-convert {\n",
              "      background-color: #E8F0FE;\n",
              "      border: none;\n",
              "      border-radius: 50%;\n",
              "      cursor: pointer;\n",
              "      display: none;\n",
              "      fill: #1967D2;\n",
              "      height: 32px;\n",
              "      padding: 0 0 0 0;\n",
              "      width: 32px;\n",
              "    }\n",
              "\n",
              "    .colab-df-convert:hover {\n",
              "      background-color: #E2EBFA;\n",
              "      box-shadow: 0px 1px 2px rgba(60, 64, 67, 0.3), 0px 1px 3px 1px rgba(60, 64, 67, 0.15);\n",
              "      fill: #174EA6;\n",
              "    }\n",
              "\n",
              "    [theme=dark] .colab-df-convert {\n",
              "      background-color: #3B4455;\n",
              "      fill: #D2E3FC;\n",
              "    }\n",
              "\n",
              "    [theme=dark] .colab-df-convert:hover {\n",
              "      background-color: #434B5C;\n",
              "      box-shadow: 0px 1px 3px 1px rgba(0, 0, 0, 0.15);\n",
              "      filter: drop-shadow(0px 1px 2px rgba(0, 0, 0, 0.3));\n",
              "      fill: #FFFFFF;\n",
              "    }\n",
              "  </style>\n",
              "\n",
              "      <script>\n",
              "        const buttonEl =\n",
              "          document.querySelector('#df-b361859c-fedd-430d-b10f-46d6f35f4688 button.colab-df-convert');\n",
              "        buttonEl.style.display =\n",
              "          google.colab.kernel.accessAllowed ? 'block' : 'none';\n",
              "\n",
              "        async function convertToInteractive(key) {\n",
              "          const element = document.querySelector('#df-b361859c-fedd-430d-b10f-46d6f35f4688');\n",
              "          const dataTable =\n",
              "            await google.colab.kernel.invokeFunction('convertToInteractive',\n",
              "                                                     [key], {});\n",
              "          if (!dataTable) return;\n",
              "\n",
              "          const docLinkHtml = 'Like what you see? Visit the ' +\n",
              "            '<a target=\"_blank\" href=https://colab.research.google.com/notebooks/data_table.ipynb>data table notebook</a>'\n",
              "            + ' to learn more about interactive tables.';\n",
              "          element.innerHTML = '';\n",
              "          dataTable['output_type'] = 'display_data';\n",
              "          await google.colab.output.renderOutput(dataTable, element);\n",
              "          const docLink = document.createElement('div');\n",
              "          docLink.innerHTML = docLinkHtml;\n",
              "          element.appendChild(docLink);\n",
              "        }\n",
              "      </script>\n",
              "    </div>\n",
              "  </div>\n",
              "  "
            ],
            "text/plain": [
              "                    datekey    year  month   day  weekday_num  \\\n",
              "user      sasdate                                               \n",
              "user_1    22497.0   80521.0  2021.0    8.0   5.0          5.0   \n",
              "          16109.0   20804.0  2004.0    2.0   8.0          1.0   \n",
              "          17968.0   31209.0  2009.0    3.0  12.0          5.0   \n",
              "          17692.0   60908.0  2008.0    6.0   9.0          2.0   \n",
              "          22805.0   60922.0  2022.0    6.0   9.0          5.0   \n",
              "...                     ...     ...    ...   ...          ...   \n",
              "user_1000 22890.0   90222.0  2022.0    9.0   2.0          6.0   \n",
              "          18897.0   92711.0  2011.0    9.0  27.0          3.0   \n",
              "          16496.0   30105.0  2005.0    3.0   1.0          3.0   \n",
              "          22596.0  111221.0  2021.0   11.0  12.0          6.0   \n",
              "          17531.0  123107.0  2007.0   12.0  31.0          2.0   \n",
              "\n",
              "                                      event       formatted_event  \n",
              "user      sasdate                                                  \n",
              "user_1    22497.0             ['tim event']             tim event  \n",
              "          16109.0   ['Joey birthday party']   joey birthday party  \n",
              "          17968.0         ['rhea Birthday']         rhea birthday  \n",
              "          17692.0      ['meet mom and dad']      meet mom and dad  \n",
              "          22805.0         ['johny Meeting']        johnny meeting  \n",
              "...                                     ...                   ...  \n",
              "user_1000 22890.0  ['birthday party mummy']  birthday party mummy  \n",
              "          18897.0      ['bday mom and dad']  birthday mom and dad  \n",
              "          16496.0     ['anniversary mummy']     anniversary mummy  \n",
              "          22596.0          ['ShivaJayanti']          shivajayanti  \n",
              "          17531.0                  ['holi']                  holi  \n",
              "\n",
              "[11994 rows x 7 columns]"
            ]
          },
          "execution_count": 17,
          "metadata": {},
          "output_type": "execute_result"
        }
      ],
      "source": [
        "read_json_df"
      ]
    },
    {
      "cell_type": "code",
      "execution_count": null,
      "metadata": {
        "colab": {
          "base_uri": "https://localhost:8080/"
        },
        "id": "sj0Ezk53OhhA",
        "outputId": "49b25116-0b0a-4bf0-b43b-af0d17ebac7a"
      },
      "outputs": [
        {
          "name": "stdout",
          "output_type": "stream",
          "text": [
            "user_1_22497\n"
          ]
        }
      ],
      "source": [
        "for index,data in read_json_df.iterrows():\n",
        "  print(index[0]+'_'+str(int(index[1])))\n",
        "  break"
      ]
    },
    {
      "cell_type": "code",
      "execution_count": null,
      "metadata": {
        "id": "0Dda7sV7Or-O"
      },
      "outputs": [],
      "source": [
        "es_user='elastic'\n",
        "es_password=\"FnkDbmxTmqG2vpkvdSuNfhi6\"\n",
        "cloud_id_val=\"IR_deployment:dXMtd2VzdDEuZ2NwLmNsb3VkLmVzLmlvOjQ0MyQ5YmE1ZmUxMTA1NGU0NzNhODRjMDdjZWM4ZWFlYjZlNiQ4NWQ5NmIyYzJlYzA0YTZiYTI3OWFkZDZmZTI0Y2YwMw==\"\n",
        "es = Elasticsearch(cloud_id=cloud_id_val,basic_auth=(es_user,es_password))\n"
      ]
    },
    {
      "cell_type": "code",
      "execution_count": null,
      "metadata": {
        "id": "h18sqwHKhrZ9"
      },
      "outputs": [],
      "source": []
    },
    {
      "cell_type": "code",
      "execution_count": null,
      "metadata": {
        "id": "API5Xl_DTkqS"
      },
      "outputs": [],
      "source": [
        "def cals_as_docs(read_json_df,index_name):\n",
        "  for index,data in read_json_df.iterrows():\n",
        "    yield{\n",
        "        \"_index\":index_name,\n",
        "        \"_id\":index[0]+'_'+str(int(index[1])),\n",
        "        \"_source\":{'user':index[0],'sasdate':index[1],'datekey':data['datekey'],'year':data['year'],'month':data['month'],'day':data['day'],'weekday_num':data['weekday_num'],'event':data['formatted_event']}\n",
        "    }\n",
        "\n"
      ]
    },
    {
      "cell_type": "code",
      "execution_count": null,
      "metadata": {
        "id": "DH4XvfkuiBge"
      },
      "outputs": [],
      "source": [
        "def festivals_as_docs(read_json_df,index_name):\n",
        "  for index,data in read_json_df.iterrows():\n",
        "    yield{\n",
        "        \"_index\":index_name,\n",
        "        \"_id\":index,\n",
        "        \"_source\":{'sasdate':index,'datekey':data['datekey'],'year':data['year'],'month':data['month'],'day':data['day'],'weekday_num':data['weekday_num'],'event':data['formatted_event']}\n",
        "    }"
      ]
    },
    {
      "cell_type": "code",
      "execution_count": null,
      "metadata": {
        "colab": {
          "base_uri": "https://localhost:8080/"
        },
        "id": "oiwno9sPfRiu",
        "outputId": "a70a38b7-e0ec-4191-f4bb-7fa585186fb0"
      },
      "outputs": [
        {
          "data": {
            "text/plain": [
              "(11994, [])"
            ]
          },
          "execution_count": 19,
          "metadata": {},
          "output_type": "execute_result"
        }
      ],
      "source": [
        "helpers.bulk(es,cals_as_docs(read_json_df,'index_username_date_new'))"
      ]
    },
    {
      "cell_type": "code",
      "execution_count": null,
      "metadata": {
        "colab": {
          "base_uri": "https://localhost:8080/"
        },
        "id": "kO0WJ7BjiA-W",
        "outputId": "9d0628eb-4d60-4cfb-ad26-084b439b16cc"
      },
      "outputs": [
        {
          "data": {
            "text/plain": [
              "(474, [])"
            ]
          },
          "execution_count": 24,
          "metadata": {},
          "output_type": "execute_result"
        }
      ],
      "source": [
        "helpers.bulk(es,festivals_as_docs(calendar_index_generated_events,'festivals_index'))"
      ]
    },
    {
      "cell_type": "code",
      "execution_count": null,
      "metadata": {
        "id": "jXc141PAdbaO"
      },
      "outputs": [],
      "source": []
    },
    {
      "cell_type": "markdown",
      "metadata": {
        "id": "78H2_v9CbKqu"
      },
      "source": [
        "IR elastic search deployed here: https://cloud.elastic.co/deployments/d50ee153cb7d457eafe10d70101aafed\n",
        "Call API: https://ir-deployment.kb.us-west1.gcp.cloud.es.io:9243/app/dev_tools#/console\n",
        "\n",
        "> GET index_username_date/_search\n",
        "> {\n",
        ">   \"query\":{\n",
        ">    \"wildcard\":{\n",
        ">      \"user\":{\n",
        ">        \"value\":\"user_1*\"       \n",
        ">      }\n",
        ">    }\n",
        ">  }\n",
        ">}\n",
        "\n",
        "\n",
        "\n",
        "\n"
      ]
    },
    {
      "cell_type": "code",
      "execution_count": null,
      "metadata": {
        "id": "KqHkXVNalJAI"
      },
      "outputs": [],
      "source": []
    },
    {
      "cell_type": "code",
      "execution_count": null,
      "metadata": {
        "id": "h4vCn5HiA1R_"
      },
      "outputs": [],
      "source": [
        "json_file=open('/content/IR_Project/JSON/generated_events_sasdate.json')\n",
        "dict_json=json.load(json_file)\n",
        "read_json_df=pd.DataFrame(dict_json['data'])"
      ]
    },
    {
      "cell_type": "code",
      "execution_count": null,
      "metadata": {
        "id": "NmiZx7UXBZcy"
      },
      "outputs": [],
      "source": [
        "read_json_df=read_json_df.set_index(['event','sasdate'])"
      ]
    },
    {
      "cell_type": "code",
      "execution_count": null,
      "metadata": {
        "id": "254mikDSBeNQ"
      },
      "outputs": [],
      "source": [
        "N=len(read_json_df)\n",
        "word=\"\"\n",
        "for i in range(0,N):\n",
        "  #print(read_json_df.loc[read_json_df['user']==row[0][0]])\n",
        "  event_str=read_json_df.index[i][0]\n",
        "  formatted_event=\"\"\n",
        "  #print(event_str)\n",
        "  for character in event_str:\n",
        "    if character.isalnum():\n",
        "      formatted_event=formatted_event+character.lower()\n",
        "      word=word+character.lower()\n",
        "    if character==' ' or character==',':\n",
        "      if word in slang_dictionary:\n",
        "        #print(i,read_json_df.index[i][0],read_json_df.index[i][1], word)\n",
        "        formatted_event=formatted_event.replace(word,slang_dictionary[word])\n",
        "      word=\"\"\n",
        "      formatted_event=formatted_event+character\n",
        "    if character==']':\n",
        "      if word in slang_dictionary:\n",
        "        #print(i,read_json_df.index[i][0],read_json_df.index[i][1], word)\n",
        "        formatted_event=formatted_event.replace(word,slang_dictionary[word])\n",
        "      word=\"\"\n",
        "\n",
        "  formatteed_event=formatted_event.split(',')\n",
        "  read_json_df.loc[(read_json_df.index[i][0],read_json_df.index[i][1]),'formatted_event']=formatted_event\n",
        "  #print(i)\n",
        "  \n",
        "json_of_read_json_df = read_json_df.to_json(orient=\"table\")\n",
        "json_load=json.loads(json_of_read_json_df)\n",
        "json_dump=json.dumps(json_load,indent=4)\n",
        "file_name='expanded_slang_events_generated_events.json'\n",
        "with open(file_name,'w') as event_file:\n",
        "  event_file.write(json_dump)\n",
        "#files.download(file_name)\n"
      ]
    },
    {
      "cell_type": "code",
      "execution_count": null,
      "metadata": {
        "id": "LQ_lI_-26-eP"
      },
      "outputs": [],
      "source": [
        "read_json_df=read_json_df.reset_index()\n",
        "read_json_df=read_json_df.set_index(['formatted_event','sasdate'])"
      ]
    },
    {
      "cell_type": "code",
      "execution_count": null,
      "metadata": {
        "id": "3vxVSL_071Vc"
      },
      "outputs": [],
      "source": [
        "read_json_df"
      ]
    },
    {
      "cell_type": "code",
      "execution_count": null,
      "metadata": {
        "id": "U0H4wMmK9SvW"
      },
      "outputs": [],
      "source": [
        "json_of_read_json_df = read_json_df.to_json(orient=\"table\")\n",
        "json_load=json.loads(json_of_read_json_df)\n",
        "json_dump=json.dumps(json_load,indent=4)\n",
        "file_name='expanded_slang_events_generated_events.json'\n",
        "with open(file_name,'w') as event_file:\n",
        "  event_file.write(json_dump)\n",
        "#files.download(file_name)"
      ]
    },
    {
      "cell_type": "code",
      "execution_count": null,
      "metadata": {
        "id": "B7gGAdLWRzWT"
      },
      "outputs": [],
      "source": []
    }
  ],
  "metadata": {
    "colab": {
      "provenance": []
    },
    "kernelspec": {
      "display_name": "Python 3",
      "name": "python3"
    },
    "language_info": {
      "name": "python"
    }
  },
  "nbformat": 4,
  "nbformat_minor": 0
}
